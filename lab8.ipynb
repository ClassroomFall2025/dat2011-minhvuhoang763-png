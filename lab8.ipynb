{
 "cells": [
  {
   "cell_type": "markdown",
   "id": "fdeff819",
   "metadata": {},
   "source": [
    "# Sinh Viên thực hiện Lab 8 ở Đây"
   ]
  },
  {
   "cell_type": "markdown",
   "id": "acc5d7dc",
   "metadata": {},
   "source": [
    "## Lab 8 - Bài 1"
   ]
  },
  {
   "cell_type": "code",
   "execution_count": 1,
   "id": "001e0507",
   "metadata": {},
   "outputs": [
    {
     "name": "stdout",
     "output_type": "stream",
     "text": [
      "Họ: VŨ\n",
      "Tên đệm: Hoàng\n",
      "Tên: MINH\n"
     ]
    }
   ],
   "source": [
    "from lab8bai1 import *\n",
    "\n",
    "if __name__ == \"__main__\":\n",
    "    ho_ten = input(\"Nhập họ và tên: \")\n",
    "    ket_qua = tach_ho_ten(ho_ten)\n",
    "    print(\"Họ:\", ket_qua[\"ho\"])\n",
    "    print(\"Tên đệm:\", ket_qua[\"ten_dem\"])\n",
    "    print(\"Tên:\", ket_qua[\"ten\"])\n"
   ]
  },
  {
   "cell_type": "markdown",
   "id": "c0835310",
   "metadata": {},
   "source": [
    "## Lab 8 - Bài 2"
   ]
  },
  {
   "cell_type": "code",
   "execution_count": 1,
   "id": "fa9cb39f",
   "metadata": {},
   "outputs": [
    {
     "name": "stdout",
     "output_type": "stream",
     "text": [
      "Có lỗi nhập liệu:\n",
      "- email: Email không đúng định dạng\n",
      "- dien_thoai: Số điện thoại phải có 10-11 chữ số và bắt đầu bằng 0\n",
      "- cmnd: CMND/CCCD phải có 9 hoặc 12 chữ số\n"
     ]
    }
   ],
   "source": [
    "# Code lab 8  bài 2 ở đây\n",
    "from lab8bai2 import *\n",
    "\n",
    "\n",
    "if __name__ == \"__main__\":\n",
    "    thong_tin = {\n",
    "        \"ho_ten\": input(\"Họ tên: \"),\n",
    "        \"email\": input(\"Email: \"),\n",
    "        \"dien_thoai\": input(\"Số điện thoại: \"),\n",
    "        \"cmnd\": input(\"CMND/CCCD: \")\n",
    "    }\n",
    "\n",
    "    danh_sach_loi = kiem_tra_sinh_vien(thong_tin)\n",
    "    if danh_sach_loi:\n",
    "        print(\"Có lỗi nhập liệu:\")\n",
    "        for truong, noi_dung in danh_sach_loi.items():\n",
    "            print(f\"- {truong}: {noi_dung}\")\n",
    "    else:\n",
    "        print(\"Thông tin hợp lệ!\")\n"
   ]
  },
  {
   "cell_type": "markdown",
   "id": "0f2483fe",
   "metadata": {},
   "source": [
    "## Lab 8 - Bài 3"
   ]
  },
  {
   "cell_type": "code",
   "execution_count": 6,
   "id": "7034990b",
   "metadata": {},
   "outputs": [],
   "source": [
    "# Code lab 8  bài 3 ở đây\n",
    "import random\n",
    "\n",
    "# Tạo 1 triệu số nguyên ngẫu nhiên từ 0 đến 100\n",
    "numbers = (str(random.randint(0, 100)) for _ in range(1_000_000))\n",
    "\n",
    "# Ghi vào file, mỗi số cách nhau bởi dấu cách\n",
    "with open(\"random_numbers.txt\", \"w\") as f:\n",
    "    f.write(\" \".join(numbers))\n",
    "\n"
   ]
  },
  {
   "cell_type": "markdown",
   "id": "d36ea3d3",
   "metadata": {},
   "source": [
    "## Lab 8 - Bài 4"
   ]
  },
  {
   "cell_type": "code",
   "execution_count": 7,
   "id": "4c707ec1",
   "metadata": {},
   "outputs": [
    {
     "name": "stdout",
     "output_type": "stream",
     "text": [
      "Trung bình: 49.985827\n",
      "Độ lệch chuẩn: 29.16642111754872\n"
     ]
    }
   ],
   "source": [
    "# code lab 8 bài 4 ở đây\n",
    "import statistics\n",
    "\n",
    "def number_iterator(filename):\n",
    "    with open(filename, \"r\") as f:\n",
    "        for line in f:\n",
    "            for num in line.strip().split():\n",
    "                yield int(num)\n",
    "\n",
    "# Dùng iterator để đọc dữ liệu lớn\n",
    "data = list(number_iterator(\"random_numbers.txt\"))\n",
    "\n",
    "# Tính trung bình và độ lệch chuẩn\n",
    "mean_value = statistics.mean(data)\n",
    "std_dev = statistics.stdev(data)\n",
    "\n",
    "print(f\"Trung bình: {mean_value}\")\n",
    "print(f\"Độ lệch chuẩn: {std_dev}\")\n"
   ]
  },
  {
   "cell_type": "markdown",
   "id": "e2b41d4a",
   "metadata": {},
   "source": [
    "## Lab 8 - Bài 5: bài tập làm thêm"
   ]
  },
  {
   "cell_type": "code",
   "execution_count": null,
   "id": "0e0172f7",
   "metadata": {},
   "outputs": [],
   "source": [
    "# code lab 8  bài làm thêm ở đây "
   ]
  }
 ],
 "metadata": {
  "kernelspec": {
   "display_name": "Python 3",
   "language": "python",
   "name": "python3"
  },
  "language_info": {
   "codemirror_mode": {
    "name": "ipython",
    "version": 3
   },
   "file_extension": ".py",
   "mimetype": "text/x-python",
   "name": "python",
   "nbconvert_exporter": "python",
   "pygments_lexer": "ipython3",
   "version": "3.14.0"
  }
 },
 "nbformat": 4,
 "nbformat_minor": 5
}
