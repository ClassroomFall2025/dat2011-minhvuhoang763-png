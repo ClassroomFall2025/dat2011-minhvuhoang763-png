{
 "cells": [
  {
   "cell_type": "markdown",
   "id": "fdeff819",
   "metadata": {},
   "source": [
    "# Sinh Viên thực hiện Lab 8 ở Đây"
   ]
  },
  {
   "cell_type": "markdown",
   "id": "acc5d7dc",
   "metadata": {},
   "source": [
    "## Lab 8 - Bài 1"
   ]
  },
  {
   "cell_type": "code",
   "execution_count": 1,
   "id": "001e0507",
   "metadata": {},
   "outputs": [
    {
     "name": "stdout",
     "output_type": "stream",
     "text": [
      "Họ: VŨ\n",
      "Tên đệm: Hoàng\n",
      "Tên: MINH\n"
     ]
    }
   ],
   "source": [
    "from lab8bai1 import *\n",
    "\n",
    "if __name__ == \"__main__\":\n",
    "    ho_ten = input(\"Nhập họ và tên: \")\n",
    "    ket_qua = tach_ho_ten(ho_ten)\n",
    "    print(\"Họ:\", ket_qua[\"ho\"])\n",
    "    print(\"Tên đệm:\", ket_qua[\"ten_dem\"])\n",
    "    print(\"Tên:\", ket_qua[\"ten\"])\n"
   ]
  },
  {
   "cell_type": "markdown",
   "id": "c0835310",
   "metadata": {},
   "source": [
    "## Lab 8 - Bài 2"
   ]
  },
  {
   "cell_type": "code",
   "execution_count": 3,
   "id": "fa9cb39f",
   "metadata": {},
   "outputs": [
    {
     "ename": "NameError",
     "evalue": "name 'kiem_tra_sinh_vien' is not defined",
     "output_type": "error",
     "traceback": [
      "\u001b[31m---------------------------------------------------------------------------\u001b[39m",
      "\u001b[31mNameError\u001b[39m                                 Traceback (most recent call last)",
      "\u001b[36mCell\u001b[39m\u001b[36m \u001b[39m\u001b[32mIn[3]\u001b[39m\u001b[32m, line 13\u001b[39m\n\u001b[32m      5\u001b[39m \u001b[38;5;28;01mif\u001b[39;00m \u001b[34m__name__\u001b[39m == \u001b[33m\"\u001b[39m\u001b[33m__main__\u001b[39m\u001b[33m\"\u001b[39m:\n\u001b[32m      6\u001b[39m     thong_tin = {\n\u001b[32m      7\u001b[39m         \u001b[33m\"\u001b[39m\u001b[33mho_ten\u001b[39m\u001b[33m\"\u001b[39m: \u001b[38;5;28minput\u001b[39m(\u001b[33m\"\u001b[39m\u001b[33mHọ tên: \u001b[39m\u001b[33m\"\u001b[39m),\n\u001b[32m      8\u001b[39m         \u001b[33m\"\u001b[39m\u001b[33memail\u001b[39m\u001b[33m\"\u001b[39m: \u001b[38;5;28minput\u001b[39m(\u001b[33m\"\u001b[39m\u001b[33mEmail: \u001b[39m\u001b[33m\"\u001b[39m),\n\u001b[32m      9\u001b[39m         \u001b[33m\"\u001b[39m\u001b[33mdien_thoai\u001b[39m\u001b[33m\"\u001b[39m: \u001b[38;5;28minput\u001b[39m(\u001b[33m\"\u001b[39m\u001b[33mSố điện thoại: \u001b[39m\u001b[33m\"\u001b[39m),\n\u001b[32m     10\u001b[39m         \u001b[33m\"\u001b[39m\u001b[33mcmnd\u001b[39m\u001b[33m\"\u001b[39m: \u001b[38;5;28minput\u001b[39m(\u001b[33m\"\u001b[39m\u001b[33mCMND/CCCD: \u001b[39m\u001b[33m\"\u001b[39m)\n\u001b[32m     11\u001b[39m     }\n\u001b[32m---> \u001b[39m\u001b[32m13\u001b[39m     danh_sach_loi = \u001b[43mkiem_tra_sinh_vien\u001b[49m(thong_tin)\n\u001b[32m     14\u001b[39m     \u001b[38;5;28;01mif\u001b[39;00m danh_sach_loi:\n\u001b[32m     15\u001b[39m         \u001b[38;5;28mprint\u001b[39m(\u001b[33m\"\u001b[39m\u001b[33mCó lỗi nhập liệu:\u001b[39m\u001b[33m\"\u001b[39m)\n",
      "\u001b[31mNameError\u001b[39m: name 'kiem_tra_sinh_vien' is not defined"
     ]
    }
   ],
   "source": [
    "# Code lab 8  bài 2 ở đây\n",
    "from lab8bai2 import *\n",
    "\n",
    "\n",
    "if __name__ == \"__main__\":\n",
    "    thong_tin = {\n",
    "        \"ho_ten\": input(\"Họ tên: \"),\n",
    "        \"email\": input(\"Email: \"),\n",
    "        \"dien_thoai\": input(\"Số điện thoại: \"),\n",
    "        \"cmnd\": input(\"CMND/CCCD: \")\n",
    "    }\n",
    "\n",
    "    danh_sach_loi = kiem_tra_sinh_vien(thong_tin)\n",
    "    if danh_sach_loi:\n",
    "        print(\"Có lỗi nhập liệu:\")\n",
    "        for truong, noi_dung in danh_sach_loi.items():\n",
    "            print(f\"- {truong}: {noi_dung}\")\n",
    "    else:\n",
    "        print(\"Thông tin hợp lệ!\")\n"
   ]
  },
  {
   "cell_type": "markdown",
   "id": "0f2483fe",
   "metadata": {},
   "source": [
    "## Lab 8 - Bài 3"
   ]
  },
  {
   "cell_type": "code",
   "execution_count": null,
   "id": "7034990b",
   "metadata": {},
   "outputs": [],
   "source": [
    "# Code lab 8  bài 3 ở đây"
   ]
  },
  {
   "cell_type": "markdown",
   "id": "d36ea3d3",
   "metadata": {},
   "source": [
    "## Lab 8 - Bài 4"
   ]
  },
  {
   "cell_type": "code",
   "execution_count": null,
   "id": "4c707ec1",
   "metadata": {},
   "outputs": [],
   "source": [
    "# code lab 8 bài 4 ở đây"
   ]
  },
  {
   "cell_type": "markdown",
   "id": "e2b41d4a",
   "metadata": {},
   "source": [
    "## Lab 8 - Bài 5: bài tập làm thêm"
   ]
  },
  {
   "cell_type": "code",
   "execution_count": null,
   "id": "0e0172f7",
   "metadata": {},
   "outputs": [],
   "source": [
    "# code lab 8  bài làm thêm ở đây "
   ]
  }
 ],
 "metadata": {
  "kernelspec": {
   "display_name": "Python 3",
   "language": "python",
   "name": "python3"
  },
  "language_info": {
   "codemirror_mode": {
    "name": "ipython",
    "version": 3
   },
   "file_extension": ".py",
   "mimetype": "text/x-python",
   "name": "python",
   "nbconvert_exporter": "python",
   "pygments_lexer": "ipython3",
   "version": "3.14.0"
  }
 },
 "nbformat": 4,
 "nbformat_minor": 5
}
