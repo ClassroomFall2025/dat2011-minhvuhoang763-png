{
 "cells": [
  {
   "cell_type": "markdown",
   "id": "b662160b",
   "metadata": {},
   "source": [
    "##### ASSIGNMENT 1\n",
    "##### Y1. Nhập danh sách nhân viên từ bàn phím, lưu thông tin vào file\n",
    "##### Y2. Đọc thông tin nhân viên từ file và xuất thông tin nhân viên ra màn hình.\n",
    "##### Y3. Tìm và hiển thị nhân viên theo mã nhập từ bàn phím\n",
    "##### Y4. Xóa nhân viên theo mã nhập từ bàn phím. Cập nhật vào file data\n",
    "##### Y5. Cập nhật thông tin nhân viên theo mã nhập từ bàn phím. Cập nhật vào file data\n",
    "##### Y6. Tìm các nhân viên theo khoảng lương nhập từ bàn phím.\n",
    "##### Y7. Sắp xếp nhân viên theo họ và tên\n",
    "##### Y8. Xắp xếp nhân viên theo thu nhập\n",
    "##### Y9. Xuất 5 nhân viên có thu nhập cao nhất"
   ]
  },
  {
   "cell_type": "code",
   "execution_count": 17,
   "id": "3e75ba21",
   "metadata": {},
   "outputs": [],
   "source": [
    "from Assignment1 import DocNhanVien\n",
    "\n",
    "\n"
   ]
  }
 ],
 "metadata": {
  "kernelspec": {
   "display_name": "Python 3",
   "language": "python",
   "name": "python3"
  },
  "language_info": {
   "codemirror_mode": {
    "name": "ipython",
    "version": 3
   },
   "file_extension": ".py",
   "mimetype": "text/x-python",
   "name": "python",
   "nbconvert_exporter": "python",
   "pygments_lexer": "ipython3",
   "version": "3.13.7"
  }
 },
 "nbformat": 4,
 "nbformat_minor": 5
}
