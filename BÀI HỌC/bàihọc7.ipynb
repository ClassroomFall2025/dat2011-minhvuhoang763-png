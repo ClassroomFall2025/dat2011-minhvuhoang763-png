{
 "cells": [
  {
   "cell_type": "markdown",
   "id": "d3f28b3e",
   "metadata": {},
   "source": [
    "BÀI 1"
   ]
  },
  {
   "cell_type": "code",
   "execution_count": 2,
   "id": "9e73de6d",
   "metadata": {},
   "outputs": [
    {
     "name": "stdout",
     "output_type": "stream",
     "text": [
      "Tự nguyện\n",
      "Trương Quốc Khánh\n",
      "Nếu là chim, tôi sẽ là loài bồ câu trắng\n",
      "Nếu là hoa, tôi sẽ là một đóa hướng dương\n",
      "Nếu là mây, tôi sẽ là một vầng mây ấm\n",
      "Là người, tôi sẽ chết cho quê hương.\n",
      "\n",
      "Là chim, tôi sẽ cất cao đôi cánh mềm\n",
      "Từ nam ra ngoài bắc báo tin nối liền\n",
      "Là hoa, tôi nở tình yêu ban sớm\n",
      "Cùng muôn trái tim ngất ngây hoà bình.\n",
      "\n",
      "Là mây, theo làn gió tung bay khắp trời\n",
      "Nghìn xưa oai hùng đó tôi xin tiếp lời\n",
      "Là người, xin một lần khi nằm xuống\n",
      "Nhìn anh em đứng lên phất cao ngọn cờ.\n"
     ]
    }
   ],
   "source": [
    "file = open(\"Resource.txt\", \"r\", encoding=\"utf-8\")\n",
    "noidung = file.read()\n",
    "print(noidung)"
   ]
  },
  {
   "cell_type": "markdown",
   "id": "b936d096",
   "metadata": {},
   "source": [
    "BÀI 2"
   ]
  },
  {
   "cell_type": "code",
   "execution_count": 3,
   "id": "b2d78d55",
   "metadata": {},
   "outputs": [
    {
     "name": "stdout",
     "output_type": "stream",
     "text": [
      "Tự nguyện\n",
      "\n"
     ]
    }
   ],
   "source": [
    "file = open(\"Resource.txt\", \"r\", encoding=\"utf-8\")\n",
    "dong = file.readline()\n",
    "print(dong)"
   ]
  },
  {
   "cell_type": "markdown",
   "id": "26d4b36c",
   "metadata": {},
   "source": [
    "BÀI 3"
   ]
  },
  {
   "cell_type": "code",
   "execution_count": 4,
   "id": "9221304d",
   "metadata": {},
   "outputs": [
    {
     "name": "stdout",
     "output_type": "stream",
     "text": [
      "['Tự nguyện\\n', 'Trương Quốc Khánh\\n', 'Nếu là chim, tôi sẽ là loài bồ câu trắng\\n', 'Nếu là hoa, tôi sẽ là một đóa hướng dương\\n', 'Nếu là mây, tôi sẽ là một vầng mây ấm\\n', 'Là người, tôi sẽ chết cho quê hương.\\n', '\\n', 'Là chim, tôi sẽ cất cao đôi cánh mềm\\n', 'Từ nam ra ngoài bắc báo tin nối liền\\n', 'Là hoa, tôi nở tình yêu ban sớm\\n', 'Cùng muôn trái tim ngất ngây hoà bình.\\n', '\\n', 'Là mây, theo làn gió tung bay khắp trời\\n', 'Nghìn xưa oai hùng đó tôi xin tiếp lời\\n', 'Là người, xin một lần khi nằm xuống\\n', 'Nhìn anh em đứng lên phất cao ngọn cờ.']\n"
     ]
    }
   ],
   "source": [
    "file = open(\"Resource.txt\", \"r\", encoding=\"utf-8\")\n",
    "dong = file.readlines()\n",
    "print(dong)"
   ]
  },
  {
   "cell_type": "markdown",
   "id": "421b4edc",
   "metadata": {},
   "source": [
    "BÀI 4"
   ]
  },
  {
   "cell_type": "code",
   "execution_count": 5,
   "id": "fc75a66b",
   "metadata": {},
   "outputs": [
    {
     "name": "stdout",
     "output_type": "stream",
     "text": [
      "Tự nguyện\n",
      "Trương Quốc Khánh\n",
      "Nếu là chim, tôi sẽ là loài bồ câu trắng\n",
      "Nếu là hoa, tôi sẽ là một đóa hướng dương\n",
      "Nếu là mây, tôi sẽ là một vầng mây ấm\n",
      "Là người, tôi sẽ chết cho quê hương.\n",
      "\n",
      "Là chim, tôi sẽ cất cao đôi cánh mềm\n",
      "Từ nam ra ngoài bắc báo tin nối liền\n",
      "Là hoa, tôi nở tình yêu ban sớm\n",
      "Cùng muôn trái tim ngất ngây hoà bình.\n",
      "\n",
      "Là mây, theo làn gió tung bay khắp trời\n",
      "Nghìn xưa oai hùng đó tôi xin tiếp lời\n",
      "Là người, xin một lần khi nằm xuống\n",
      "Nhìn anh em đứng lên phất cao ngọn cờ.\n"
     ]
    }
   ],
   "source": [
    "with open(\"Resource.txt\", \"r\", encoding=\"utf-8\") as file:\n",
    "    noidung = file.read()\n",
    "    print(noidung)"
   ]
  },
  {
   "cell_type": "markdown",
   "id": "870bdcf4",
   "metadata": {},
   "source": [
    "BÀI 5"
   ]
  },
  {
   "cell_type": "code",
   "execution_count": 6,
   "id": "40c56698",
   "metadata": {},
   "outputs": [
    {
     "name": "stdout",
     "output_type": "stream",
     "text": [
      "Tự nguyện\n",
      "Trương Quốc Khánh\n",
      "Nếu là chim, tôi sẽ là loài bồ câu trắng\n",
      "Nếu là hoa, tôi sẽ là một đóa hướng dương\n",
      "Nếu là mây, tôi sẽ là một vầng mây ấm\n",
      "Là người, tôi sẽ chết cho quê hương.\n",
      "\n",
      "Là chim, tôi sẽ cất cao đôi cánh mềm\n",
      "Từ nam ra ngoài bắc báo tin nối liền\n",
      "Là hoa, tôi nở tình yêu ban sớm\n",
      "Cùng muôn trái tim ngất ngây hoà bình.\n",
      "\n",
      "Là mây, theo làn gió tung bay khắp trời\n",
      "Nghìn xưa oai hùng đó tôi xin tiếp lời\n",
      "Là người, xin một lần khi nằm xuống\n",
      "Nhìn anh em đứng lên phất cao ngọn cờ.\n"
     ]
    }
   ],
   "source": [
    "with open(\"Resource.txt\", \"r\", encoding=\"utf-8\") as file:\n",
    "    noidung = file.read()\n",
    "    print(noidung)"
   ]
  },
  {
   "cell_type": "markdown",
   "id": "00dd182c",
   "metadata": {},
   "source": [
    "BÀI 6"
   ]
  },
  {
   "cell_type": "code",
   "execution_count": null,
   "id": "57681cb4",
   "metadata": {},
   "outputs": [],
   "source": []
  }
 ],
 "metadata": {
  "kernelspec": {
   "display_name": "Python 3",
   "language": "python",
   "name": "python3"
  },
  "language_info": {
   "codemirror_mode": {
    "name": "ipython",
    "version": 3
   },
   "file_extension": ".py",
   "mimetype": "text/x-python",
   "name": "python",
   "nbconvert_exporter": "python",
   "pygments_lexer": "ipython3",
   "version": "3.14.0"
  }
 },
 "nbformat": 4,
 "nbformat_minor": 5
}
