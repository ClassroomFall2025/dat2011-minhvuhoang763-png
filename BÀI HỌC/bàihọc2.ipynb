{
 "cells": [
  {
   "cell_type": "markdown",
   "id": "44782d22",
   "metadata": {},
   "source": [
    "# BÀI 1"
   ]
  },
  {
   "cell_type": "code",
   "execution_count": 1,
   "id": "7ca48542",
   "metadata": {},
   "outputs": [
    {
     "name": "stdout",
     "output_type": "stream",
     "text": [
      "python\n"
     ]
    }
   ],
   "source": [
    "text = \"lập trình python rất dễ\"\n",
    "index1 = text.find(\"python\")\n",
    "len_python = len(\"python\")\n",
    "index2 = index1 + len_python\n",
    "print (text[index1:index2])"
   ]
  },
  {
   "cell_type": "markdown",
   "id": "1d9768a3",
   "metadata": {},
   "source": [
    "\n",
    "# BÀI 2"
   ]
  },
  {
   "cell_type": "code",
   "execution_count": 2,
   "id": "20e31902",
   "metadata": {},
   "outputs": [
    {
     "name": "stdout",
     "output_type": "stream",
     "text": [
      "lập trình python rất dễ Tôi cũng muốn học python\n"
     ]
    }
   ],
   "source": [
    "text = \"lập trình python rất dễ\"\n",
    "text1 = (\"Tôi cũng muốn học python\")\n",
    "text2 = text + \" \" + text1\n",
    "print (text2)"
   ]
  },
  {
   "cell_type": "markdown",
   "id": "72cb4d0f",
   "metadata": {},
   "source": [
    "# BÀI 3"
   ]
  },
  {
   "cell_type": "code",
   "execution_count": 4,
   "id": "99b1bf3c",
   "metadata": {},
   "outputs": [
    {
     "name": "stdout",
     "output_type": "stream",
     "text": [
      "Từ java có trong text:? False\n",
      "lập trình java rất dễ\n"
     ]
    }
   ],
   "source": [
    "text = \"lập trình python rất dễ\"\n",
    "ketqua = \"java\" in text\n",
    "print(\"Từ java có trong text:?\",ketqua)\n",
    "thaythe = text.replace(\"python\",\"java\")\n",
    "print (thaythe)"
   ]
  },
  {
   "cell_type": "markdown",
   "id": "42566549",
   "metadata": {},
   "source": [
    "# BÀI 4"
   ]
  },
  {
   "cell_type": "code",
   "execution_count": null,
   "id": "e24dfd3e",
   "metadata": {},
   "outputs": [],
   "source": [
    "# Nhập 2 số và tìm số lớn nhất trong 2 số\n",
    "so1 = float(input(\"Nhập số 1: \"))\n",
    "so2 = float(input(\"Nhập số 2: \"))\n",
    "if so1 >= so2:\n",
    "    print(\"Số lớn nhất là:\",so1)\n",
    "else:\n",
    "    max = so2\n",
    "    print(\"Số lớn nhất là:\",so2)"
   ]
  },
  {
   "cell_type": "markdown",
   "id": "b617681c",
   "metadata": {},
   "source": [
    "BÀI 5"
   ]
  },
  {
   "cell_type": "code",
   "execution_count": 8,
   "id": "f4c2ebd9",
   "metadata": {},
   "outputs": [
    {
     "name": "stdout",
     "output_type": "stream",
     "text": [
      "Số lớn nhất là: 10.0\n"
     ]
    }
   ],
   "source": [
    "# Nhập 2 số và tìm số lớn nhất trong 2 số đó\n",
    "so1 = float(input(\"Nhập số 1: \"))\n",
    "so2 = float(input(\"Nhập số 2: \"))\n",
    "max = so1 if so1 >= so2 else so2\n",
    "print(\"Số lớn nhất là:\",max)"
   ]
  }
 ],
 "metadata": {
  "kernelspec": {
   "display_name": "Python 3",
   "language": "python",
   "name": "python3"
  },
  "language_info": {
   "codemirror_mode": {
    "name": "ipython",
    "version": 3
   },
   "file_extension": ".py",
   "mimetype": "text/x-python",
   "name": "python",
   "nbconvert_exporter": "python",
   "pygments_lexer": "ipython3",
   "version": "3.13.7"
  }
 },
 "nbformat": 4,
 "nbformat_minor": 5
}
