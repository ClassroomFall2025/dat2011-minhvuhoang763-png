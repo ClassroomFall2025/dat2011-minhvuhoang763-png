{
 "cells": [
  {
   "cell_type": "markdown",
   "id": "fdeff819",
   "metadata": {},
   "source": [
    "# Sinh Viên thực hiện Lab 7 ở Đây"
   ]
  },
  {
   "cell_type": "markdown",
   "id": "acc5d7dc",
   "metadata": {},
   "source": [
    "## Lab 7 - Bài 1"
   ]
  },
  {
   "cell_type": "code",
   "execution_count": 4,
   "id": "001e0507",
   "metadata": {},
   "outputs": [
    {
     "name": "stdout",
     "output_type": "stream",
     "text": [
      "Toàn bộ nội dung của file:\n",
      "Tự nguyện\n",
      "Trương Quốc Khánh\n",
      "Nếu là chim, tôi sẽ là loài bồ câu trắng\n",
      "Nếu là hoa, tôi sẽ là một đóa hướng dương\n",
      "Nếu là mây, tôi sẽ là một vầng mây ấm\n",
      "Là người, tôi sẽ chết cho quê hương.\n",
      "\n",
      "Là chim, tôi sẽ cất cao đôi cánh mềm\n",
      "Từ nam ra ngoài bắc báo tin nối liền\n",
      "Là hoa, tôi nở tình yêu ban sớm\n",
      "Cùng muôn trái tim ngất ngây hoà bình.\n",
      "\n",
      "Là mây, theo làn gió tung bay khắp trời\n",
      "Nghìn xưa oai hùng đó tôi xin tiếp lời\n",
      "Là người, xin một lần khi nằm xuống\n",
      "Nhìn anh em đứng lên phất cao ngọn cờ.\n",
      "\n",
      "Tên bài thơ là:\n",
      "Tự nguyện\n",
      "\n",
      "\n",
      "Tên tác giả là:\n",
      "Trương Quốc Khánh\n",
      "\n"
     ]
    }
   ],
   "source": [
    "# Code lab 7 bài 1 ở đây\n",
    "with open(\"DAT2011 - Lab 7 - Resource.txt\", \"r\", encoding=\"utf-8\") as file:\n",
    "    # Đọc toàn bộ nội dung và xuất ra màn hình\n",
    "    bai1y1 = file.read()\n",
    "    print(\"Toàn bộ nội dung của file:\")\n",
    "    print(bai1y1)\n",
    "\n",
    "# Mở lại file để đọc từng dòng (vì read() đã đọc hết nội dung trước đó)\n",
    "with open(\"DAT2011 - Lab 7 - Resource.txt\", \"r\", encoding=\"utf-8\") as file:\n",
    "    # Đọc dòng đầu tiên để lấy tên bài thơ (9 ký tự đầu tiên)\n",
    "    dongdau = file.readline()\n",
    "    print(\"\\nTên bài thơ là:\")\n",
    "    print(dongdau)\n",
    "\n",
    "    # Đọc dòng thứ hai để lấy tên tác giả\n",
    "    dongtacgia = file.readline()\n",
    "    print(\"\\nTên tác giả là:\")\n",
    "    print(dongtacgia)\n"
   ]
  },
  {
   "cell_type": "markdown",
   "id": "c0835310",
   "metadata": {},
   "source": [
    "## Lab 7 - Bài 2"
   ]
  },
  {
   "cell_type": "code",
   "execution_count": 3,
   "id": "fa9cb39f",
   "metadata": {},
   "outputs": [],
   "source": [
    "# Code lab 7  bài 2 ở đây\n",
    "# Ghi nội dung vào file (ghi đè nếu đã tồn tại)\n",
    "# Tạo và ghi nội dung vào file mới\n",
    "with open(\"Lab7-Exercise2.txt\", \"w\", encoding=\"utf-8\") as file:\n",
    "    file.write(\"Nếu một mai tôi có bay lên trời\\n\")\n",
    "    file.write(\"Nếu một mai tôi đã sống rất thanh thơi\\n\")\n",
    "    file.write(\"Nếu một mai tôi có đi qua đời\\n\")\n",
    "    file.write(\"Thì người ơi tôi đã sống rất tuyệt vời\\n\")\n",
    "\n",
    "\n"
   ]
  },
  {
   "cell_type": "markdown",
   "id": "0f2483fe",
   "metadata": {},
   "source": [
    "## Lab 7 - Bài 3"
   ]
  },
  {
   "cell_type": "code",
   "execution_count": 1,
   "id": "7034990b",
   "metadata": {},
   "outputs": [
    {
     "name": "stdout",
     "output_type": "stream",
     "text": [
      "\n",
      "Nhập thông tin bài thơ thứ 1:\n",
      "\n",
      "Nhập thông tin bài thơ thứ 2:\n",
      "\n",
      "Nhập thông tin bài thơ thứ 3:\n",
      "\n",
      "Nhập thông tin bài thơ thứ 4:\n",
      "\n",
      "Nhập thông tin bài thơ thứ 5:\n",
      "\n",
      "Đã ghi thông tin 5 bài thơ vào file 'Các Bài Thơ.csv' thành công!\n"
     ]
    }
   ],
   "source": [
    "# Code lab 7  bài 3 ở đây\n",
    "import csv\n",
    "\n",
    "# Tên file CSV\n",
    "filename = \"Các Bài Thơ.csv\"\n",
    "\n",
    "# Tạo danh sách để lưu thông tin các bài thơ\n",
    "BaiTho = []\n",
    "\n",
    "# Nhập thông tin từ bàn phím\n",
    "for i in range(5):\n",
    "    print(f\"\\nNhập thông tin bài thơ thứ {i + 1}:\")\n",
    "    TieuDe = input(\"Tiêu đề: \")\n",
    "    TacGia = input(\"Tác giả: \")\n",
    "    Nam = input(\"Năm sáng tác: \")\n",
    "    \n",
    "    BaiTho.append([TieuDe, TacGia, Nam])\n",
    "\n",
    "# Ghi vào file CSV\n",
    "with open(filename, \"w\", newline=\"\", encoding=\"utf-8\") as file:\n",
    "    writer = csv.writer(file)\n",
    "    \n",
    "    # Ghi dòng tiêu đề\n",
    "    writer.writerow([\"Tiêu đề\", \"Tác giả\", \"Năm sáng tác\"])\n",
    "    \n",
    "    # Ghi từng bài thơ\n",
    "    writer.writerows(BaiTho)\n",
    "\n",
    "print(f\"\\nĐã ghi thông tin 5 bài thơ vào file '{filename}' thành công!\")\n"
   ]
  },
  {
   "cell_type": "markdown",
   "id": "d36ea3d3",
   "metadata": {},
   "source": [
    "## Lab 7 - Bài 4"
   ]
  },
  {
   "cell_type": "code",
   "execution_count": 3,
   "id": "4c707ec1",
   "metadata": {},
   "outputs": [
    {
     "name": "stdout",
     "output_type": "stream",
     "text": [
      "Đã ghi poem_output.xml (tựa đề: Tự nguyện, tác giả: Trương Quốc Khánh, số đoạn: 3)\n"
     ]
    }
   ],
   "source": [
    "def chuyen_bai_tho_sang_xml(tap_tin_vao, tap_tin_ra):\n",
    "    import xml.sax.saxutils as sax\n",
    "\n",
    "    with open(tap_tin_vao, 'r', encoding='utf-8') as f:\n",
    "        dong = [dong.rstrip('\\n') for dong in f]\n",
    "\n",
    "    if len(dong) == 0:\n",
    "        raise ValueError(\"File rỗng\")\n",
    "    tieu_de = dong[0].strip() if len(dong) > 0 else ''\n",
    "    tac_gia = dong[1].strip() if len(dong) > 1 else ''\n",
    "\n",
    "    doan_tho = []\n",
    "    doan_hien_tai = []\n",
    "    for dong_tho in dong[2:]:\n",
    "        if dong_tho.strip() == '':\n",
    "            if doan_hien_tai:\n",
    "                doan_tho.append(doan_hien_tai)\n",
    "                doan_hien_tai = []\n",
    "        else:\n",
    "            doan_hien_tai.append(dong_tho.rstrip())\n",
    "    if doan_hien_tai:\n",
    "        doan_tho.append(doan_hien_tai)\n",
    "\n",
    "    with open(tap_tin_ra, 'w', encoding='utf-8') as f:\n",
    "        f.write('<?xml version=\"1.0\" encoding=\"UTF-8\"?>\\n')\n",
    "        f.write('<bai_tho>\\n')\n",
    "        f.write(f'  <tieu_de>{sax.escape(tieu_de)}</tieu_de>\\n')\n",
    "        f.write(f'  <tac_gia>{sax.escape(tac_gia)}</tac_gia>\\n')\n",
    "        f.write('  <cac_doan>\\n')\n",
    "        for doan in doan_tho:\n",
    "            f.write('    <doan>\\n')\n",
    "            for dong_tho in doan:\n",
    "                f.write(f'      <dong>{sax.escape(dong_tho)}</dong>\\n')\n",
    "            f.write('    </doan>\\n')\n",
    "        f.write('  </cac_doan>\\n')\n",
    "        f.write('</bai_tho>\\n')\n",
    "    print(f\"Đã ghi {tap_tin_ra} (tựa đề: {tieu_de}, tác giả: {tac_gia}, số đoạn: {len(doan_tho)})\")\n",
    "\n",
    "# Gọi hàm\n",
    "chuyen_bai_tho_sang_xml('DAT2011 - Lab 7 - Resource.txt', 'poem_output.xml')\n"
   ]
  },
  {
   "cell_type": "markdown",
   "id": "e2b41d4a",
   "metadata": {},
   "source": [
    "## Lab 7 - Bài 5: bài tập làm thêm"
   ]
  },
  {
   "cell_type": "code",
   "execution_count": null,
   "id": "0e0172f7",
   "metadata": {},
   "outputs": [],
   "source": [
    "# code lab 7  bài làm thêm ở đây "
   ]
  }
 ],
 "metadata": {
  "kernelspec": {
   "display_name": "Python 3",
   "language": "python",
   "name": "python3"
  },
  "language_info": {
   "codemirror_mode": {
    "name": "ipython",
    "version": 3
   },
   "file_extension": ".py",
   "mimetype": "text/x-python",
   "name": "python",
   "nbconvert_exporter": "python",
   "pygments_lexer": "ipython3",
   "version": "3.14.0"
  }
 },
 "nbformat": 4,
 "nbformat_minor": 5
}
