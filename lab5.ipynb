{
 "cells": [
  {
   "cell_type": "markdown",
   "id": "fdeff819",
   "metadata": {},
   "source": [
    "# Sinh Viên thực hiện Lab 5 ở Đây"
   ]
  },
  {
   "cell_type": "markdown",
   "id": "acc5d7dc",
   "metadata": {},
   "source": [
    "## Lab 5 - Bài 1"
   ]
  },
  {
   "cell_type": "code",
   "execution_count": null,
   "id": "001e0507",
   "metadata": {},
   "outputs": [
    {
     "name": "stdout",
     "output_type": "stream",
     "text": [
      "Sản phẩm Bia có giá 2000000 được giảm giá 200000 và phải đóng thuế 200000.0\n",
      "Sản phẩm Rượu có giá 4000000 được giảm giá 0 và phải đóng thuế 400000.0\n"
     ]
    }
   ],
   "source": [
    "# Code lab 5 bài 1 ở đây\n",
    "from  lab5bai1 import *\n",
    "sp1 = SanPham(\"Bia\",2000000,200000)\n",
    "sp2 = SanPham(\"Rượu\",4000000,0)\n",
    "sp1.xuat()\n",
    "sp2.xuat()"
   ]
  },
  {
   "cell_type": "markdown",
   "id": "c0835310",
   "metadata": {},
   "source": [
    "## Lab 5 - Bài 2"
   ]
  },
  {
   "cell_type": "code",
   "execution_count": null,
   "id": "fa9cb39f",
   "metadata": {},
   "outputs": [
    {
     "name": "stdout",
     "output_type": "stream",
     "text": [
      "Nhập sản phẩm 1:\n",
      "\n",
      "Nhập sản phẩm 2:\n",
      "\n",
      "--- Thông tin sản phẩm 1 ---\n",
      "Sản phẩm bia có giá 400000.0 được giảm giá 200000.0 và phải đóng thuế 40000.0\n",
      "\n",
      "--- Thông tin sản phẩm 2 ---\n",
      "Sản phẩm rượu có giá 5000000.0 được giảm giá 200000.0 và phải đóng thuế 500000.0\n"
     ]
    }
   ],
   "source": [
    "# Code lab 5  bài 2 ở đây\n",
    "from  lab5bai1 import *\n",
    "\n",
    "print(\"Nhập sản phẩm 1:\")\n",
    "ten = input(\"Tên: \")\n",
    "gia = float(input(\"Giá: \"))\n",
    "giamgia = float(input(\"Giảm giá: \"))\n",
    "sp1 = SanPham(ten,gia, giamgia)\n",
    "\n",
    "print(\"\\nNhập sản phẩm 2:\")\n",
    "\n",
    "ten = input(\"Tên: \")\n",
    "gia = float(input(\"Giá: \"))\n",
    "giam_gia = float(input(\"Giảm giá: \"))\n",
    "sp2 = SanPham(ten,gia, giamgia)\n",
    "\n",
    "print(\"\\n--- Thông tin sản phẩm 1 ---\")\n",
    "sp1.xuat()\n",
    "print(\"\\n--- Thông tin sản phẩm 2 ---\")\n",
    "sp2.xuat()\n"
   ]
  },
  {
   "cell_type": "markdown",
   "id": "0f2483fe",
   "metadata": {},
   "source": [
    "## Lab 5 - Bài 3"
   ]
  },
  {
   "cell_type": "code",
   "execution_count": 3,
   "id": "7034990b",
   "metadata": {},
   "outputs": [
    {
     "name": "stdout",
     "output_type": "stream",
     "text": [
      "Sản phẩm Laptop Lenovo có giá 15000000 được giảm giá 1000000 và phải đóng thuế 1500000.0\n"
     ]
    }
   ],
   "source": [
    "# Code lab 5  bài 3 ở đây\n",
    "from lab5bai3 import SanPham\n",
    "\n",
    "sp = SanPham()\n",
    "sp.set_ten(\"Laptop Lenovo\")\n",
    "sp.set_gia(15000000)\n",
    "sp.set_giam_gia(1000000)\n",
    "\n",
    "sp.xuat()\n",
    "\n"
   ]
  },
  {
   "cell_type": "markdown",
   "id": "d36ea3d3",
   "metadata": {},
   "source": [
    "## Lab 5 - Bài 4"
   ]
  },
  {
   "cell_type": "code",
   "execution_count": null,
   "id": "4c707ec1",
   "metadata": {},
   "outputs": [],
   "source": [
    "# code lab 5 bài 4 ở đây\n",
    "from lab5bai4 import SanPham\n",
    "\n",
    "print(\"Nhập sản phẩm 1:\")\n",
    "sp1 = SanPham(\"\", 0, 0)\n",
    "sp1.nhap()\n",
    "\n",
    "print(\"\\nNhập sản phẩm 2:\")\n",
    "sp2 = SanPham(\"\", 0, 0)\n",
    "sp2.nhap()\n",
    "\n",
    "print(\"\\n--- Thông tin sản phẩm 1 ---\")\n",
    "sp1.xuat()\n",
    "print(\"\\n--- Thông tin sản phẩm 2 ---\")\n",
    "sp2.xuat()\n"
   ]
  },
  {
   "cell_type": "markdown",
   "id": "e2b41d4a",
   "metadata": {},
   "source": [
    "## Lab 5 - Bài 5: bài tập làm thêm"
   ]
  },
  {
   "cell_type": "code",
   "execution_count": null,
   "id": "0e0172f7",
   "metadata": {},
   "outputs": [],
   "source": [
    "# code lab 5  bài làm thêm ở đây "
   ]
  }
 ],
 "metadata": {
  "kernelspec": {
   "display_name": "Python 3",
   "language": "python",
   "name": "python3"
  },
  "language_info": {
   "codemirror_mode": {
    "name": "ipython",
    "version": 3
   },
   "file_extension": ".py",
   "mimetype": "text/x-python",
   "name": "python",
   "nbconvert_exporter": "python",
   "pygments_lexer": "ipython3",
   "version": "3.14.0"
  }
 },
 "nbformat": 4,
 "nbformat_minor": 5
}
