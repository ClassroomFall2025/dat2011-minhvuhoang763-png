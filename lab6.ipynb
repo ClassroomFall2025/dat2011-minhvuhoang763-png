{
 "cells": [
  {
   "cell_type": "markdown",
   "id": "fdeff819",
   "metadata": {},
   "source": [
    "# Sinh Viên thực hiện Lab 6 ở Đây"
   ]
  },
  {
   "cell_type": "markdown",
   "id": "acc5d7dc",
   "metadata": {},
   "source": [
    "## Lab 6 - Bài 1"
   ]
  },
  {
   "cell_type": "code",
   "execution_count": 9,
   "id": "001e0507",
   "metadata": {},
   "outputs": [
    {
     "name": "stdout",
     "output_type": "stream",
     "text": [
      "\n",
      "Thông tin hình chữ nhật:\n",
      "Chiều dài: 90.0\n",
      "Chiều rộng: 60.0\n",
      "Diện tích: 5400.0\n",
      "Chu vi: 300.0\n",
      "\n",
      "Thông tin hình vuông:\n",
      "Cạnh: 30.0\n",
      "Diện tích: 900.0\n",
      "Chu vi: 120.0\n"
     ]
    }
   ],
   "source": [
    "# Code lab 6 bài 1 ở đây\n",
    "from lab6bai1 import ChuNhat, Vuong\n",
    "\n",
    "# Nhập thông tin hình chữ nhật và hình vuông\n",
    "dai = float(input(\"Nhập chiều dài hình chữ nhật: \"))\n",
    "rong = float(input(\"Nhập chiều rộng hình chữ nhật: \"))\n",
    "canh = float(input(\"Nhập cạnh hình vuông: \"))\n",
    "\n",
    "print(\"\\nThông tin hình chữ nhật:\")\n",
    "ChuNhat(dai,rong).xuat()\n",
    "print(\"\\nThông tin hình vuông:\")\n",
    "Vuong(canh).xuat()"
   ]
  },
  {
   "cell_type": "markdown",
   "id": "c0835310",
   "metadata": {},
   "source": [
    "## Lab 6 - Bài 2"
   ]
  },
  {
   "cell_type": "code",
   "execution_count": 6,
   "id": "fa9cb39f",
   "metadata": {},
   "outputs": [
    {
     "name": "stdout",
     "output_type": "stream",
     "text": [
      "\n",
      "Nhập thông tin sinh viên thứ 1\n",
      "\n",
      "Nhập thông tin sinh viên thứ 2\n",
      "\n",
      "Danh sách sinh viên:\n",
      "Họ tên: Vũ Minh\n",
      "Ngành: Liên Minh\n",
      "Điểm: 10.00\n",
      "Học lực: Xuất sắc\n",
      "-----\n",
      "Họ tên: Minh Hoàng\n",
      "Ngành: CS Go\n",
      "Điểm: 9.00\n",
      "Học lực: Xuất sắc\n",
      "-----\n"
     ]
    }
   ],
   "source": [
    "from lab6bai2 import *\n",
    "\n",
    "# Tạo danh sách sinh viên\n",
    "ds_sinh_vien = []\n",
    "\n",
    "so_sv = int(input(\"Nhập số lượng sinh viên: \"))\n",
    "for i in range(so_sv):\n",
    "    print(f\"\\nNhập thông tin sinh viên thứ {i+1}\")\n",
    "    ho_ten = input(\"Họ tên: \")\n",
    "    nganh = input(\"Ngành học: \")\n",
    "    diem = float(input(\"Điểm: \"))\n",
    "\n",
    "    sv = SinhVienTest(ho_ten, nganh, diem)\n",
    "    ds_sinh_vien.append(sv)\n",
    "\n",
    "# Xuất danh sách sinh viên\n",
    "print(\"\\nDanh sách sinh viên:\")\n",
    "for sv in ds_sinh_vien:\n",
    "    sv.xuat()\n",
    "    print(\"-----\")\n",
    "\n",
    "\n",
    "\n"
   ]
  },
  {
   "cell_type": "markdown",
   "id": "0f2483fe",
   "metadata": {},
   "source": [
    "## Lab 6 - Bài 3"
   ]
  },
  {
   "cell_type": "code",
   "execution_count": 5,
   "id": "7034990b",
   "metadata": {},
   "outputs": [
    {
     "name": "stdout",
     "output_type": "stream",
     "text": [
      "\n",
      "Sinh viên thứ 1\n",
      "\n",
      "Sinh viên thứ 2\n",
      "\n",
      "Danh sách sinh viên:\n",
      "Họ tên: Vũ Minh\n",
      "Ngành: IT\n",
      "Điểm: 8.25\n",
      "Học lực: Giỏi\n",
      "-----\n",
      "Họ tên: MinhHoang\n",
      "Ngành: Biz\n",
      "Điểm: 7.33\n",
      "Học lực: Khá\n",
      "-----\n"
     ]
    }
   ],
   "source": [
    "# Code lab 6  bài 3 ở đây\n",
    "from lab6bai3 import *\n",
    "# Nhập thông tin sinh viên\n",
    "ds_sinh_vien = []\n",
    "\n",
    "so_sv = int(input(\"Nhập số lượng sinh viên: \"))\n",
    "for i in range(so_sv):\n",
    "    print(f\"\\nSinh viên thứ {i+1}\")\n",
    "    loai = input(\"Loại sinh viên (IT/Biz): \").strip().lower()\n",
    "    ho_ten = input(\"Họ tên: \")\n",
    "\n",
    "    if loai == \"it\":\n",
    "        java = float(input(\"Điểm Java: \"))\n",
    "        html = float(input(\"Điểm HTML: \"))\n",
    "        css = float(input(\"Điểm CSS: \"))\n",
    "        sv = SinhVienIT(ho_ten, java, html, css)\n",
    "    elif loai == \"biz\":\n",
    "        marketing = float(input(\"Điểm Marketing: \"))\n",
    "        sales = float(input(\"Điểm Sales: \"))\n",
    "        sv = SinhVienBiz(ho_ten, marketing, sales)\n",
    "    else:\n",
    "        print(\"Loại không hợp lệ.\")\n",
    "        continue\n",
    "\n",
    "    ds_sinh_vien.append(sv)\n",
    "\n",
    "# Hiển thị danh sách sinh viên\n",
    "print(\"\\nDanh sách sinh viên:\")\n",
    "for sv in ds_sinh_vien:\n",
    "    sv.xuat()\n",
    "    print(\"-----\")"
   ]
  },
  {
   "cell_type": "markdown",
   "id": "d36ea3d3",
   "metadata": {},
   "source": [
    "## Lab 6 - Bài 4"
   ]
  },
  {
   "cell_type": "code",
   "execution_count": 7,
   "id": "4c707ec1",
   "metadata": {},
   "outputs": [
    {
     "name": "stdout",
     "output_type": "stream",
     "text": [
      "\n",
      "MENU QUẢN LÝ SINH VIÊN\n",
      "1. Nhập danh sách sinh viên\n",
      "2. Xuất danh sách sinh viên\n",
      "3. Xuất sinh viên có học lực giỏi\n",
      "4. Sắp xếp sinh viên theo điểm\n",
      "5. Kết thúc\n",
      "\n",
      "Sinh viên thứ 1\n",
      "\n",
      "Sinh viên thứ 2\n",
      "\n",
      "MENU QUẢN LÝ SINH VIÊN\n",
      "1. Nhập danh sách sinh viên\n",
      "2. Xuất danh sách sinh viên\n",
      "3. Xuất sinh viên có học lực giỏi\n",
      "4. Sắp xếp sinh viên theo điểm\n",
      "5. Kết thúc\n",
      "\n",
      "DANH SÁCH SINH VIÊN:\n",
      "Họ tên: Vũ Minh\n",
      "Ngành: IT\n",
      "Điểm: 8.25\n",
      "Học lực: Giỏi\n",
      "-----\n",
      "Họ tên: Minh Hoàng\n",
      "Ngành: Biz\n",
      "Điểm: 5.67\n",
      "Học lực: Trung bình\n",
      "-----\n",
      "\n",
      "MENU QUẢN LÝ SINH VIÊN\n",
      "1. Nhập danh sách sinh viên\n",
      "2. Xuất danh sách sinh viên\n",
      "3. Xuất sinh viên có học lực giỏi\n",
      "4. Sắp xếp sinh viên theo điểm\n",
      "5. Kết thúc\n",
      "\n",
      "SINH VIÊN CÓ HỌC LỰC GIỎI:\n",
      "Họ tên: Vũ Minh\n",
      "Ngành: IT\n",
      "Điểm: 8.25\n",
      "Học lực: Giỏi\n",
      "-----\n",
      "\n",
      "MENU QUẢN LÝ SINH VIÊN\n",
      "1. Nhập danh sách sinh viên\n",
      "2. Xuất danh sách sinh viên\n",
      "3. Xuất sinh viên có học lực giỏi\n",
      "4. Sắp xếp sinh viên theo điểm\n",
      "5. Kết thúc\n",
      "Đã sắp xếp danh sách theo điểm giảm dần.\n",
      "\n",
      "MENU QUẢN LÝ SINH VIÊN\n",
      "1. Nhập danh sách sinh viên\n",
      "2. Xuất danh sách sinh viên\n",
      "3. Xuất sinh viên có học lực giỏi\n",
      "4. Sắp xếp sinh viên theo điểm\n",
      "5. Kết thúc\n",
      "Kết thúc chương trình.\n"
     ]
    }
   ],
   "source": [
    "# code lab 6 bài 4 ở đây\n",
    "from lab6bai4 import *\n",
    "\n",
    "ds_sinh_vien = []\n",
    "\n",
    "def menu():\n",
    "    print(\"\\nMENU QUẢN LÝ SINH VIÊN\")\n",
    "    print(\"1. Nhập danh sách sinh viên\")\n",
    "    print(\"2. Xuất danh sách sinh viên\")\n",
    "    print(\"3. Xuất sinh viên có học lực giỏi\")\n",
    "    print(\"4. Sắp xếp sinh viên theo điểm\")\n",
    "    print(\"5. Kết thúc\")\n",
    "\n",
    "while True:\n",
    "    menu()\n",
    "    chon = input(\"Chọn chức năng (1-5): \")\n",
    "\n",
    "    if chon == \"1\":\n",
    "        so_sv = int(input(\"Nhập số lượng sinh viên: \"))\n",
    "        for i in range(so_sv):\n",
    "            print(f\"\\nSinh viên thứ {i+1}\")\n",
    "            loai = input(\"Loại sinh viên (IT/Biz): \").strip().lower()\n",
    "            ho_ten = input(\"Họ tên: \")\n",
    "\n",
    "            if loai == \"it\":\n",
    "                java = float(input(\"Điểm Java: \"))\n",
    "                html = float(input(\"Điểm HTML: \"))\n",
    "                css = float(input(\"Điểm CSS: \"))\n",
    "                sv = SinhVienIT(ho_ten, java, html, css)\n",
    "            elif loai == \"biz\":\n",
    "                marketing = float(input(\"Điểm Marketing: \"))\n",
    "                sales = float(input(\"Điểm Sales: \"))\n",
    "                sv = SinhVienBiz(ho_ten, marketing, sales)\n",
    "            else:\n",
    "                print(\"Loại không hợp lệ.\")\n",
    "                continue\n",
    "\n",
    "            ds_sinh_vien.append(sv)\n",
    "\n",
    "    elif chon == \"2\":\n",
    "        print(\"\\nDANH SÁCH SINH VIÊN:\")\n",
    "        for sv in ds_sinh_vien:\n",
    "            sv.xuat()\n",
    "            print(\"-----\")\n",
    "\n",
    "    elif chon == \"3\":\n",
    "        print(\"\\nSINH VIÊN CÓ HỌC LỰC GIỎI:\")\n",
    "        for sv in ds_sinh_vien:\n",
    "            if sv.get_hoc_luc() == \"Giỏi\":\n",
    "                sv.xuat()\n",
    "                print(\"-----\")\n",
    "\n",
    "    elif chon == \"4\":\n",
    "        ds_sinh_vien.sort(key=lambda x: x.get_diem(), reverse=True)\n",
    "        print(\"Đã sắp xếp danh sách theo điểm giảm dần.\")\n",
    "\n",
    "    elif chon == \"5\":\n",
    "        print(\"Kết thúc chương trình.\")\n",
    "        break\n",
    "\n",
    "    else:\n",
    "        print(\"Lựa chọn không hợp lệ.\")\n"
   ]
  },
  {
   "cell_type": "markdown",
   "id": "e2b41d4a",
   "metadata": {},
   "source": [
    "## Lab 6 - Bài 5: bài tập làm thêm"
   ]
  },
  {
   "cell_type": "code",
   "execution_count": null,
   "id": "0e0172f7",
   "metadata": {},
   "outputs": [],
   "source": [
    "# code lab 6  bài làm thêm ở đây \n"
   ]
  }
 ],
 "metadata": {
  "kernelspec": {
   "display_name": "Python 3",
   "language": "python",
   "name": "python3"
  },
  "language_info": {
   "codemirror_mode": {
    "name": "ipython",
    "version": 3
   },
   "file_extension": ".py",
   "mimetype": "text/x-python",
   "name": "python",
   "nbconvert_exporter": "python",
   "pygments_lexer": "ipython3",
   "version": "3.14.0"
  }
 },
 "nbformat": 4,
 "nbformat_minor": 5
}
