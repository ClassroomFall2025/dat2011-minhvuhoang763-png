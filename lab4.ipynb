{
 "cells": [
  {
   "cell_type": "markdown",
   "id": "fdeff819",
   "metadata": {},
   "source": [
    "# Sinh Viên thực hiện Lab 4 ở Đây"
   ]
  },
  {
   "cell_type": "markdown",
   "id": "acc5d7dc",
   "metadata": {},
   "source": [
    "## Lab 1 - Bài 1"
   ]
  },
  {
   "cell_type": "code",
   "execution_count": 3,
   "id": "001e0507",
   "metadata": {},
   "outputs": [
    {
     "name": "stdout",
     "output_type": "stream",
     "text": [
      "Tiền nước cho 12m³: 92600 đồng\n",
      "Tiền nước cho 23m³: 199000 đồng\n",
      "Tiền nước cho 34m³: 379000 đồng\n"
     ]
    }
   ],
   "source": [
    "# Code lab 4 bài 1 ở đây\n",
    "from lab4 import TinhTienNuoc\n",
    "\n",
    "for so_m3 in [12, 23, 34]:\n",
    "    print(f\"Tiền nước cho {so_m3}m³: {TinhTienNuoc(so_m3)} đồng\")"
   ]
  },
  {
   "cell_type": "markdown",
   "id": "c0835310",
   "metadata": {},
   "source": [
    "## Lab 4 - Bài 2"
   ]
  },
  {
   "cell_type": "code",
   "execution_count": null,
   "id": "fa9cb39f",
   "metadata": {},
   "outputs": [
    {
     "name": "stdout",
     "output_type": "stream",
     "text": [
      "Nguyên liệu cần cho 1 hộp bánh: {'Đường': 0.61, 'Đậu': 0.31000000000000005}\n"
     ]
    }
   ],
   "source": [
    "# Code lab 4  bài 2 ở đây\n",
    "from lab4 import TinhNguyenLieu\n",
    "\n",
    "# Nhập số lượng từng loại bánh từ bàn phím\n",
    "SLbdx = int(input(\"Nhập số bánh đậu xanh: \"))\n",
    "SLbtc = int(input(\"Nhập số bánh thập cẩm: \"))\n",
    "SLbd = int(input(\"Nhập số bánh dẻo: \"))\n",
    "\n",
    "# Tính nguyên liệu và in kết quả\n",
    "print(\"Nguyên liệu cần cho 1 hộp bánh:\",TinhNguyenLieu(SLbdx, SLbtc, SLbd) )"
   ]
  },
  {
   "cell_type": "markdown",
   "id": "0f2483fe",
   "metadata": {},
   "source": [
    "## Lab 4 - Bài 3"
   ]
  },
  {
   "cell_type": "code",
   "execution_count": 6,
   "id": "7034990b",
   "metadata": {},
   "outputs": [
    {
     "name": "stdout",
     "output_type": "stream",
     "text": [
      "Các số chẵn trong dãy là: [2, 4, 6, 8, 10]\n"
     ]
    }
   ],
   "source": [
    "# Code lab 4  bài 3 ở đây\n",
    "# Nhập dãy số nguyên, dừng khi nhập 's' hoặc 'S'\n",
    "danhsach = []\n",
    "while True:\n",
    "    So = input(\"Nhập số nguyên (hoặc 's' để dừng): \")\n",
    "    if So.lower() == 's':\n",
    "        break\n",
    "    try:\n",
    "        danhsach.append(int(So))\n",
    "    except ValueError:\n",
    "        print(\"Vui lòng nhập số nguyên hoặc 's' để dừng.\")\n",
    "\n",
    "# Lọc ra các số chẵn bằng lambda\n",
    "so_chan = list(filter(lambda n: n % 2 == 0, danhsach))\n",
    "print(\"Các số chẵn trong dãy là:\", so_chan)"
   ]
  },
  {
   "cell_type": "markdown",
   "id": "d36ea3d3",
   "metadata": {},
   "source": [
    "## Lab 4 - Bài 4"
   ]
  },
  {
   "cell_type": "code",
   "execution_count": 1,
   "id": "4c707ec1",
   "metadata": {},
   "outputs": [
    {
     "name": "stdout",
     "output_type": "stream",
     "text": [
      "\n",
      "===== MENU =====\n",
      "1. Tính tiền nước sinh hoạt\n",
      "2. Tính nguyên liệu làm bánh\n",
      "3. Thoát\n",
      "Lựa chọn không hợp lệ! Vui lòng nhập số từ 1 đến 4.\n",
      "\n",
      "===== MENU =====\n",
      "1. Tính tiền nước sinh hoạt\n",
      "2. Tính nguyên liệu làm bánh\n",
      "3. Thoát\n",
      "Thoát chương trình.\n"
     ]
    }
   ],
   "source": [
    "# code lab 4 bài 4 ở đây\n",
    "from lab4 import TinhTienNuoc, TinhNguyenLieu\n",
    "\n",
    "while True:\n",
    "    print(\"\\n===== MENU =====\")\n",
    "    print(\"1. Tính tiền nước sinh hoạt\")\n",
    "    print(\"2. Tính nguyên liệu làm bánh\")\n",
    "    print(\"3. Thoát\")\n",
    "    chon = input(\"Nhập lựa chọn (1-3): \")\n",
    "    if chon == '1':\n",
    "        try:\n",
    "            so_m3 = int(input(\"Nhập số m³ nước sử dụng: \"))\n",
    "            print(f\"Tiền nước phải trả: {TinhTienNuoc(so_m3)} đồng\")\n",
    "        except:\n",
    "            print(\"Vui lòng nhập số nguyên hợp lệ!\")\n",
    "    elif chon == '2':\n",
    "        try:\n",
    "            SLbdx = int(input(\"Nhập số bánh đậu xanh: \"))\n",
    "            SLbtc = int(input(\"Nhập số bánh thập cẩm: \"))\n",
    "            SLbd = int(input(\"Nhập số bánh dẻo: \"))\n",
    "            print(\"Nguyên liệu cần:\", TinhNguyenLieu(SLbdx, SLbtc, SLbd))\n",
    "        except:\n",
    "            print(\"Vui lòng nhập số nguyên hợp lệ!\")\n",
    "    elif chon == '3':\n",
    "        print(\"Thoát chương trình.\")\n",
    "        break\n",
    "    else:\n",
    "        print(\"Lựa chọn không hợp lệ! Vui lòng nhập số từ 1 đến 4.\")"
   ]
  },
  {
   "cell_type": "markdown",
   "id": "e2b41d4a",
   "metadata": {},
   "source": [
    "## Lab 4 - Bài 5: bài tập làm thêm"
   ]
  },
  {
   "cell_type": "code",
   "execution_count": 3,
   "id": "0e0172f7",
   "metadata": {},
   "outputs": [
    {
     "name": "stdout",
     "output_type": "stream",
     "text": [
      "Thời gian hiện tại: 2025-10-04 22:25:15\n",
      "\n",
      "===== MENU =====\n",
      "1. Phép tính cơ bản (+, -, *, /)\n",
      "2. Lũy thừa x^y\n",
      "3. Căn bậc hai √x\n",
      "4. Hàm lượng giác (sin, cos, tan)\n",
      "5. Logarit (log10, ln, log cơ số tùy chọn)\n",
      "6. Giải phương trình bậc nhất\n",
      "7. Giải phương trình bậc hai\n",
      "8. Lịch sử phép tính\n",
      "9. Thời gian hiện tại\n",
      "10. Thoát\n",
      "Thoát chương trình.\n"
     ]
    }
   ],
   "source": [
    "from lab4 import *\n",
    "\n",
    "while True:\n",
    "    print(\"\\n===== MENU =====\")\n",
    "    print(\"1. Phép tính cơ bản (+, -, *, /)\")\n",
    "    print(\"2. Lũy thừa x^y\")\n",
    "    print(\"3. Căn bậc hai √x\")\n",
    "    print(\"4. Hàm lượng giác (sin, cos, tan)\")\n",
    "    print(\"5. Logarit (log10, ln, log cơ số tùy chọn)\")\n",
    "    print(\"6. Giải phương trình bậc nhất\")\n",
    "    print(\"7. Giải phương trình bậc hai\")\n",
    "    print(\"8. Lịch sử phép tính\")\n",
    "    print(\"9. Thời gian hiện tại\")\n",
    "    print(\"10. Thoát\")\n",
    "    chon = input(\"Chọn chức năng (1-10): \")\n",
    "    try:\n",
    "        if chon == '1':\n",
    "            So1 = float(input(\"Nhập số thứ nhất: \"))\n",
    "            So2 = float(input(\"Nhập số thứ hai: \"))\n",
    "            op = input(\"Chọn phép tính (+, -, *, /): \")\n",
    "            if op == '+':\n",
    "                print(\"Kết quả:\", Cong(So1, So2))\n",
    "            elif op == '-':\n",
    "                print(\"Kết quả:\", Tru(So1, So2))\n",
    "            elif op == '*':\n",
    "                print(\"Kết quả:\", Nhan(So1, So2))\n",
    "            elif op == '/':\n",
    "                print(\"Kết quả:\", Chia(So1, So2))\n",
    "            else:\n",
    "                print(\"Phép tính không hợp lệ.\")\n",
    "        elif chon == '2':\n",
    "            CoSo = float(input(\"Nhập Cơ Số: \"))\n",
    "            SoMu = float(input(\"Nhập Số Mũ: \"))\n",
    "            print(\"Kết quả:\", LuyThua(CoSo, SoMu))\n",
    "        elif chon == '3':\n",
    "            So = float(input(\"Nhập số: \"))\n",
    "            print(\"Kết quả:\", CanBac2(So))\n",
    "        elif chon == '4':   \n",
    "            goc = float(input(\"Nhập góc (độ): \"))\n",
    "            singoc, cosgoc, tangoc, cotgoc = HamLuongGiac(goc)\n",
    "            print(f\"sin({goc}) = {singoc}, cos({goc}) = {cosgoc}, tan({goc}) = {tangoc}, cot({goc}) = {cotgoc}\")\n",
    "        elif chon == '5':\n",
    "            DoiSo = float(input(\"Nhập đối số: \"))\n",
    "            CoSo = input(\"Nhập cơ số (10, e, hoặc số khác): \")\n",
    "            if CoSo == '10':\n",
    "                    print(\"Kết quả:\", logarit(DoiSo, 10))\n",
    "            elif CoSo == 'e':\n",
    "                print(\"Kết quả:\", logarit(DoiSo, 'e'))\n",
    "            else:\n",
    "                print(\"Kết quả:\", logarit(DoiSo, float(CoSo)))\n",
    "        elif chon == '6':\n",
    "            a = float(input(\"Nhập a: \"))\n",
    "            b = float(input(\"Nhập b: \"))\n",
    "            print(\"Nghiệm x =\", giai_pt_bac_nhat(a, b))\n",
    "        elif chon == '7':\n",
    "            a = float(input(\"Nhập a: \"))\n",
    "            b = float(input(\"Nhập b: \"))\n",
    "            c = float(input(\"Nhập c: \"))\n",
    "            print(\"Nghiệm:\", giai_pt_bac_hai(a, b, c))\n",
    "        elif chon == '8':\n",
    "            for item in xem_lich_su():\n",
    "                print(item)\n",
    "        elif chon == '9':\n",
    "            print(\"Thời gian hiện tại:\", hien_thi_thoi_gian())\n",
    "        elif chon == '10':\n",
    "            print(\"Thoát chương trình.\")\n",
    "            break\n",
    "        else:\n",
    "            print(\"Vui lòng chọn số từ 1 đến 10.\")\n",
    "    except Exception as e:\n",
    "        print(\"Lỗi:\", e)"
   ]
  }
 ],
 "metadata": {
  "kernelspec": {
   "display_name": "Python 3",
   "language": "python",
   "name": "python3"
  },
  "language_info": {
   "codemirror_mode": {
    "name": "ipython",
    "version": 3
   },
   "file_extension": ".py",
   "mimetype": "text/x-python",
   "name": "python",
   "nbconvert_exporter": "python",
   "pygments_lexer": "ipython3",
   "version": "3.13.7"
  }
 },
 "nbformat": 4,
 "nbformat_minor": 5
}
