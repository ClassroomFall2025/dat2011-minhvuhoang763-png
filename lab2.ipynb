{
 "cells": [
  {
   "cell_type": "markdown",
   "id": "fdeff819",
   "metadata": {},
   "source": [
    "# Sinh Viên thực hiện Lab 2 ở Đây"
   ]
  },
  {
   "cell_type": "markdown",
   "id": "acc5d7dc",
   "metadata": {},
   "source": [
    "## Lab 2 - Bài 1"
   ]
  },
  {
   "cell_type": "code",
   "execution_count": 15,
   "id": "001e0507",
   "metadata": {},
   "outputs": [
    {
     "name": "stdout",
     "output_type": "stream",
     "text": [
      "5\n",
      "True\n",
      "Trích xuất 1 phần chuỗi để lấy từ: con người\n",
      "Chữ hoa của từ con người: CON NGƯỜI\n"
     ]
    }
   ],
   "source": [
    "# Code lab 2 bài 1 ở đây\n",
    "# Nhập bài thơ vào \n",
    "BaiTho ='''Kiếp con người mỏng manh như là gió\n",
    "Sống trên đời có được mấy lần vui\n",
    "Sao phải đau mà không thể mỉm cười\n",
    "Gắng buông nỗi ngậm ngùi nơi quá khứ\n",
    "\n",
    "Nếu có thể sao ta không làm thử\n",
    "Để tâm hồn khắc hai chữ bình an\n",
    "Cho đôi chân bước thanh thản nhẹ nhàng\n",
    "Dù hướng đời có muôn ngàn đá sỏi\\n'''\n",
    "\n",
    "# Kiểm tra từ con người có trong chuỗi? Xuất ra kết quả kiểm tra màn hình\n",
    "timkiem = BaiTho.find(\"con người\")\n",
    "print(timkiem)\n",
    "timkiem1 = \"con người\" in BaiTho\n",
    "print(timkiem1)\n",
    "\n",
    "# Trích ra 1 phần chuỗi để lấy từ con người trong câu đầu tiên\n",
    "SoKyTu = len(\"con người\")\n",
    "KetThuc = BaiTho[timkiem:timkiem+SoKyTu]\n",
    "print(\"Trích xuất 1 phần chuỗi để lấy từ:\", KetThuc) \n",
    "\n",
    "# Chuyển từ \"con người\" thành chữ hoa và xuất ra màn hình\"\n",
    "print(\"Chữ hoa của từ con người:\",KetThuc.upper())"
   ]
  },
  {
   "cell_type": "markdown",
   "id": "c0835310",
   "metadata": {},
   "source": [
    "## Lab 2 - Bài 2"
   ]
  },
  {
   "cell_type": "code",
   "execution_count": 1,
   "id": "fa9cb39f",
   "metadata": {},
   "outputs": [
    {
     "name": "stdout",
     "output_type": "stream",
     "text": [
      "\"...\n",
      "Kiếp con người mỏng manh như là gió\n",
      "Sống trên đời có được mấy lần vui\n",
      "Sao phải đau mà không thể mỉm cười\n",
      "Gắng buông nỗi ngậm ngùi nơi quá khứ\n",
      "\n",
      "Nếu có thể sao ta không làm thử\n",
      "Để tâm hồn khắc hai chữ bình an\n",
      "Cho đôi chân bước thanh thản nhẹ nhàng\n",
      "Dù hướng đời có muôn ngàn đá sỏi\n",
      "...\"\n",
      "\n"
     ]
    }
   ],
   "source": [
    "# Code lab 2  bài 2 ở đây\n",
    "BaiTho ='''Kiếp con người mỏng manh như là gió\n",
    "Sống trên đời có được mấy lần vui\n",
    "Sao phải đau mà không thể mỉm cười\n",
    "Gắng buông nỗi ngậm ngùi nơi quá khứ\n",
    "\n",
    "Nếu có thể sao ta không làm thử\n",
    "Để tâm hồn khắc hai chữ bình an\n",
    "Cho đôi chân bước thanh thản nhẹ nhàng\n",
    "Dù hướng đời có muôn ngàn đá sỏi\\n'''\n",
    "\n",
    "# Thay thế từ “bình an” bằng từ “hạnh phúc”. \n",
    "ThayThe = BaiTho.replace(\"bình an\",\"hạnh phúc\")\n",
    "\n",
    "# Ghép thêm cụm ký tự “… vào đầu bài thơ và …” vào cuối bài thơ\n",
    "BaiTho2 = '\"...\\n' + BaiTho + '...\"\\n'\n",
    "\n",
    "# Xuất bài thơ thay thế ra màn hình\n",
    "print(BaiTho2)"
   ]
  },
  {
   "cell_type": "markdown",
   "id": "0f2483fe",
   "metadata": {},
   "source": [
    "## Lab 2 - Bài 3"
   ]
  },
  {
   "cell_type": "code",
   "execution_count": null,
   "id": "7034990b",
   "metadata": {},
   "outputs": [
    {
     "name": "stdout",
     "output_type": "stream",
     "text": [
      "Phương trình có vô số nghiệm\n"
     ]
    }
   ],
   "source": [
    "# Code lab 2  bài 3 ở đây\n",
    "# Viết phương trình giải phương trình bậc nhất ax + b = 0\n",
    "a = float(input(\"Nhập hệ số a: \"))\n",
    "b = float(input(\"Nhập hệ số b: \"))\n",
    "if a == 0:\n",
    "    if b == 0:\n",
    "        print(\"Phương trình có vô số nghiệm\")\n",
    "    else:\n",
    "        print(\"Phương trình vô nghiệm\")\n",
    "else:\n",
    "    x = -b/a \n",
    "    print(\"Phương trình có nghiệm:\",x)\n"
   ]
  },
  {
   "cell_type": "markdown",
   "id": "d36ea3d3",
   "metadata": {},
   "source": [
    "## Lab 2 - Bài 4"
   ]
  },
  {
   "cell_type": "code",
   "execution_count": 14,
   "id": "4c707ec1",
   "metadata": {},
   "outputs": [
    {
     "name": "stdout",
     "output_type": "stream",
     "text": [
      "Phương trình vô nghiệm\n"
     ]
    }
   ],
   "source": [
    "# code lab 2 bài 4 ở đây\n",
    "# Viết phương trình giải phương trình bậc 2 ax^2 + bx + c = 0\n",
    "import math\n",
    "\n",
    "# Nhập hệ số a, b, c vào phương trình\n",
    "a = float(input(\"Nhập hệ số a: \"))\n",
    "b = float(input(\"Nhập hệ số b: \"))\n",
    "c = float(input(\"Nhập hệ số c: \"))\n",
    "\n",
    "# Tính kết quả phương trình\n",
    "if a == 0: \n",
    "    if b == 0: \n",
    "        if c == 0: \n",
    "            print(\"Phương trình có vô số nghiệm\")\n",
    "        else: \n",
    "            print(\"Phương trình vô nghiệm\")\n",
    "    else: \n",
    "        print(\"Phương trình có nghiệm:\", -c/b)\n",
    "else:\n",
    "    delta = b**2 - 4*a*c\n",
    "    if delta < 0: \n",
    "        print(\"Phương trình vô nghiệm\")\n",
    "    elif delta == 0: \n",
    "        x = -b/(2*a)\n",
    "        print(\"Phương trình có nghiệm kép:\", x)\n",
    "    else: \n",
    "        x1 = (-b + math.sqrt(delta)) / (2*a)\n",
    "        x2 = (-b - math.sqrt(delta)) / (2*a)\n",
    "        print(\"Phương trình có hai nghiệm phân biệt:\", x1, \"và\", x2)\n"
   ]
  },
  {
   "cell_type": "markdown",
   "id": "e2b41d4a",
   "metadata": {},
   "source": [
    "## Lab 2 - Bài 5: bài tập làm thêm"
   ]
  },
  {
   "cell_type": "code",
   "execution_count": null,
   "id": "0e0172f7",
   "metadata": {},
   "outputs": [],
   "source": [
    "# code lab 2  bài làm thêm ở đây \n",
    "# Phép tính cơ bản cộng, trừ, nhân, chia hai số\n",
    "so1 = float(input(\"Nhập số thứ nhất: \"))\n",
    "toantu = (input(\"Nhập vào phép toán (+, -, *, /,**): \"))\n",
    "so2 = float(input(\"Nhập số thứ hai: \"))\n",
    "if toantu == '+':\n",
    "    ketqua = so1 + so2\n",
    "    print(f\"Kết quả của {so1} + {so2} =\", ketqua)\n",
    "elif toantu == '-':\n",
    "    ketqua = so1 - so2\n",
    "    print(f\"Kết quả của {so1} - {so2} =\", ketqua)\n",
    "elif toantu == '*':\n",
    "    ketqua = so1 * so2\n",
    "    print(f\"Kết quả của {so1} * {so2} =\", ketqua)\n",
    "elif toantu == '/':\n",
    "    if so2 != 0:\n",
    "        ketqua = so1 / so2\n",
    "        print(f\"Kết quả của {so1} / {so2} =\", ketqua)\n",
    "    else:\n",
    "        print(\"Lỗi: Không thể chia cho 0\")\n",
    "\n"
   ]
  },
  {
   "cell_type": "code",
   "execution_count": 1,
   "id": "c9c3df2c",
   "metadata": {},
   "outputs": [
    {
     "name": "stdout",
     "output_type": "stream",
     "text": [
      "Kết quả của 2.0 ^ 3.0 = 8.0\n"
     ]
    }
   ],
   "source": [
    "# Phép tính lũy thừa\n",
    "coso = float(input(\"Nhập cơ số: \"))\n",
    "somu = float(input(\"Nhập số mũ: \"))\n",
    "ketqua = coso ** somu\n",
    "print(f\"Kết quả của {coso} ^ {somu} =\", ketqua)"
   ]
  },
  {
   "cell_type": "code",
   "execution_count": 3,
   "id": "1733ecf9",
   "metadata": {},
   "outputs": [
    {
     "name": "stdout",
     "output_type": "stream",
     "text": [
      "Lỗi: Không thể tính căn bậc hai của số âm\n"
     ]
    }
   ],
   "source": [
    "# Phép tính căn bậc hai\n",
    "import math\n",
    "so = float(input(\"Nhập số: \"))\n",
    "if so < 0:\n",
    "    print(\"Lỗi: Không thể tính căn bậc hai của số âm\")\n",
    "else:\n",
    "    ketqua = math.sqrt(so)\n",
    "    print(f\"Căn bậc hai của {so} =\", ketqua)    "
   ]
  },
  {
   "cell_type": "code",
   "execution_count": 7,
   "id": "0421662e",
   "metadata": {},
   "outputs": [
    {
     "name": "stdout",
     "output_type": "stream",
     "text": [
      "cos(180.0) = -1.0\n"
     ]
    }
   ],
   "source": [
    "# Hàm lượng giác\n",
    "import math\n",
    "goc = float(input(\"Nhập góc (độ): \"))\n",
    "goc_rad = math.radians(goc)  # Chuyển đổi độ sang radian\n",
    "luonggiac = (input(\"Nhập hàm lượng giác (sin, cos, tan,cot): \"))\n",
    "if luonggiac == \"sin\":\n",
    "    ketqua = math.sin(goc_rad)\n",
    "    print(f\"sin({goc}) =\", ketqua)\n",
    "elif luonggiac == \"cos\":\n",
    "    ketqua = math.cos(goc_rad)\n",
    "    print(f\"cos({goc}) =\", ketqua)\n",
    "elif luonggiac == \"tan\":\n",
    "    ketqua = math.tan(goc_rad)\n",
    "    print(f\"tan({goc}) =\", ketqua)\n",
    "elif luonggiac == \"cot\":\n",
    "    if math.tan(goc_rad) != 0:\n",
    "        ketqua = 1 / math.tan(goc_rad)\n",
    "        print(f\"cot({goc}) =\", ketqua)\n",
    "    else:\n",
    "        print(\"Lỗi: cotan không xác định tại góc này\")\n"
   ]
  },
  {
   "cell_type": "code",
   "execution_count": null,
   "id": "9b053591",
   "metadata": {},
   "outputs": [
    {
     "name": "stdout",
     "output_type": "stream",
     "text": [
      "Lỗi: Cơ số phải lớn hơn 0 và khác 1\n"
     ]
    }
   ],
   "source": [
    "# Hàm logarit\n",
    "import math\n",
    "so = float(input(\"Nhập số: \"))\n",
    "toantu = (input(\"Nhập hàm logarit cơ số 10, ln, bất kì \"))\n",
    "if so > 0:\n",
    "    if toantu == \"10\":\n",
    "        ketqua = math.log10(so)\n",
    "        print(f\"Logarit cơ số 10 của {so} =\", ketqua)\n",
    "    elif toantu == \"ln\":\n",
    "        ketqua = math.log(so)\n",
    "        print(f\"Logarit tự nhiên của {so} =\", ketqua)\n",
    "    elif toantu == \"bất kì\":\n",
    "        coso = float(input(\"Nhập cơ số (cơ số > 0 và khác 1): \"))\n",
    "        if coso > 0 and coso != 1:  \n",
    "            ketqua = math.log(so, coso)\n",
    "            print(f\"Logarit cơ số {coso} của {so} =\", ketqua)\n",
    "        else:\n",
    "            print(\"Lỗi: Cơ số phải lớn hơn 0 và khác 1\")\n",
    "else:\n",
    "    print(\"Lỗi: Không thể tính logarit của số âm hoặc bằng 0\")"
   ]
  },
  {
   "cell_type": "code",
   "execution_count": 16,
   "id": "e080393c",
   "metadata": {},
   "outputs": [
    {
     "name": "stdout",
     "output_type": "stream",
     "text": [
      "9.0\n"
     ]
    }
   ],
   "source": [
    "# Nhập 3 số và tìm số lớn nhất trong 3 số\n",
    "so1 = float(input(\"Nhập số 1: \"))\n",
    "so2 = float(input(\"Nhập số 2: \"))\n",
    "so3 = float(input(\"Nhập số 3: \"))\n",
    "max = so1 if so1 >= so2 else so2\n",
    "max = max if max >= so3 else so3\n",
    "print(max)\n",
    " "
   ]
  }
 ],
 "metadata": {
  "kernelspec": {
   "display_name": "Python 3",
   "language": "python",
   "name": "python3"
  },
  "language_info": {
   "codemirror_mode": {
    "name": "ipython",
    "version": 3
   },
   "file_extension": ".py",
   "mimetype": "text/x-python",
   "name": "python",
   "nbconvert_exporter": "python",
   "pygments_lexer": "ipython3",
   "version": "3.13.7"
  }
 },
 "nbformat": 4,
 "nbformat_minor": 5
}
