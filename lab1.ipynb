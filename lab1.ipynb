{
 "cells": [
  {
   "cell_type": "markdown",
   "id": "fdeff819",
   "metadata": {},
   "source": [
    "# Sinh Viên thực hiện Lab 1 ở Đây"
   ]
  },
  {
   "cell_type": "markdown",
   "id": "acc5d7dc",
   "metadata": {},
   "source": [
    "## Lab 1 - Bài 1"
   ]
  },
  {
   "cell_type": "code",
   "execution_count": 3,
   "id": "001e0507",
   "metadata": {},
   "outputs": [
    {
     "name": "stdout",
     "output_type": "stream",
     "text": [
      "Xin Chào!\n",
      "Tôi là Vũ Hoàng Minh\n",
      "Tôi đến từ Hải Phòng\n"
     ]
    }
   ],
   "source": [
    "print(\"Xin Chào!\")\n",
    "print(\"Tôi là Vũ Hoàng Minh\")\n",
    "print(\"Tôi đến từ Hải Phòng\")"
   ]
  },
  {
   "cell_type": "markdown",
   "id": "c0835310",
   "metadata": {},
   "source": [
    "## Lab 1 - Bài 2"
   ]
  },
  {
   "cell_type": "code",
   "execution_count": null,
   "id": "fa9cb39f",
   "metadata": {},
   "outputs": [
    {
     "name": "stdout",
     "output_type": "stream",
     "text": [
      "Chu vi của hình chữ nhật là 18.0\n",
      "Diện tích của hình chữ nhật là 18.0\n"
     ]
    }
   ],
   "source": [
    "# Nhập chiều dài và chiều rộng của hình chữ nhật\n",
    "ChieuDai = float(input(\"Nhập chiều dài hình chữ nhật: \"))\n",
    "ChieuRong = float(input(\"Nhập chiều rộng hình chữ nhật: \"))\n",
    "\n",
    "# Tính chu vi và diện tích của hình chữ nhật\n",
    "ChuVi = (ChieuDai + ChieuRong) *2\n",
    "DienTich = ChieuDai * ChieuRong\n",
    "\n",
    "# In kết quả\n",
    "print(\"Chu vi của hình chữ nhật là\", ChuVi)\n",
    "print(\"Diện tích của hình chữ nhật là\", DienTich)"
   ]
  },
  {
   "cell_type": "markdown",
   "id": "0f2483fe",
   "metadata": {},
   "source": [
    "## Lab 1 - Bài 3"
   ]
  },
  {
   "cell_type": "code",
   "execution_count": 4,
   "id": "7034990b",
   "metadata": {},
   "outputs": [
    {
     "name": "stdout",
     "output_type": "stream",
     "text": [
      "\"...\n",
      "Sống không giận, không buồn không oán trách\n",
      "Sống mỉm cười, với thử thách chông gai\n",
      "Sống vươn lên, theo kịp ánh ban mai\n",
      "Sống chan hòa, với với những người chung sống\n",
      "\n",
      "Sống là động, nhưng lòng luôn bất động\n",
      "Sống là thương, nhưng lòng chẳng vấn vương\n",
      "Sống yên vui, danh lợi mãi coi thường\n",
      "Tâm bất biến, giữa dòng đời vạn biến\n",
      "...\"\n"
     ]
    }
   ],
   "source": [
    "# Nhập bài thơ trên vào đây\n",
    "life = \"Sống\"\n",
    "print('\"...')\n",
    "print(f\"{life} không giận, không buồn không oán trách\")\n",
    "print(f\"{life} mỉm cười, với thử thách chông gai\")\n",
    "print(f\"{life} vươn lên, theo kịp ánh ban mai\")\n",
    "print(f\"{life} chan hòa, với với những người chung sống\\n\")\n",
    "print(f\"{life} là động, nhưng lòng luôn bất động\")\n",
    "print(f\"{life} là thương, nhưng lòng chẳng vấn vương\")\n",
    "print(f\"{life} yên vui, danh lợi mãi coi thường\")\n",
    "print(\"Tâm bất biến, giữa dòng đời vạn biến\")\n",
    "print('...\"')\n",
    "      \n"
   ]
  },
  {
   "cell_type": "markdown",
   "id": "d36ea3d3",
   "metadata": {},
   "source": [
    "## Lab 1 - Bài 4"
   ]
  },
  {
   "cell_type": "code",
   "execution_count": 2,
   "id": "4c707ec1",
   "metadata": {},
   "outputs": [
    {
     "name": "stdout",
     "output_type": "stream",
     "text": [
      "Delta là 4.0\n",
      "CanDelta là 2.0\n"
     ]
    }
   ],
   "source": [
    "import math\n",
    "# Nhập vào hệ số a, b, c trong phương trình a*(x^2)+bx+c = 0\n",
    "a = float(input(\"Nhập hệ số a:\"))\n",
    "b = float(input(\"Nhập hệ số b:\"))\n",
    "c = float(input(\"Nhập hệ số c:\"))\n",
    "\n",
    "# Tính delta và căn delta\n",
    "Delta = b**2 - 4*a*c\n",
    "CanDelta = math.sqrt(abs(Delta))\n",
    "    \n",
    "# Xuất căn delta ra màn hình \n",
    "print (\"Delta là\", Delta)\n",
    "print(\"CanDelta là\", CanDelta)\n",
    "        "
   ]
  },
  {
   "cell_type": "markdown",
   "id": "e2b41d4a",
   "metadata": {},
   "source": [
    "## Lab 1 - Bài 5: bài tập làm thêm"
   ]
  },
  {
   "cell_type": "code",
   "execution_count": 2,
   "id": "0e0172f7",
   "metadata": {},
   "outputs": [
    {
     "name": "stdout",
     "output_type": "stream",
     "text": [
      "Tổng của x và y là: 4.0\n",
      "Hiệu của x và y là: -2.0\n",
      "Tích của x và y là: 3.0\n",
      "Thương của x và y là: 0.3333333333333333\n",
      "Lũy thừa a^b là: 8.0\n",
      "Căn bậc 2 của a là: 3.0\n",
      "Sin(góc) là: 0.01745240643728351\n",
      "Cos(góc) là: 0.9998476951563913\n",
      "Tan(góc) là: 0.017455064928217585\n",
      "Cot(góc) là: 57.28996163075943\n",
      "Log cơ số e của d là: 0.9542425094393249\n",
      "Log cơ số 10 của d là: 0.9542425094393249\n",
      "Ln của d là: 2.1972245773362196\n"
     ]
    }
   ],
   "source": [
    "import math\n",
    "# 1) Nhập vào 2 toán hạng x, y để thực hiện các phép toán cơ bản\n",
    "x = float(input(\"Nhập toán hạng x:\"))\n",
    "y = float(input(\"Nhập toán hạng y:\"))\n",
    "print(\"Tổng của x và y là:\",x+y)\n",
    "print(\"Hiệu của x và y là:\",x-y)\n",
    "print(\"Tích của x và y là:\",x*y)\n",
    "print(\"Thương của x và y là:\",x/y)\n",
    "\n",
    "# 2) Nhập vào 2 toán hạng a, b để thực hiện phép tính lũy thừa\n",
    "a = float(input(\"Nhập cơ số a:\"))\n",
    "b = float(input(\"Nhập số mũ b:\"))\n",
    "print(\"Lũy thừa a^b là:\",a**b)\n",
    "\n",
    "# 3) Nhập vào căn bậc 2 của toán hạng c\n",
    "c = float(input(\"Nhập cơ số a:\"))\n",
    "print(\"Căn bậc 2 của a là:\",math.sqrt(c))\n",
    "\n",
    "# 4) Tính toán hàm lượng giác sin, cos, tan, cot\n",
    "goc = float(input(\"Nhập góc (độ):\"))\n",
    "goc_rad = math.radians(goc)\n",
    "print(\"Sin(góc) là:\",math.sin(goc_rad))\n",
    "print(\"Cos(góc) là:\",math.cos(goc_rad))\n",
    "print(\"Tan(góc) là:\",math.tan(goc_rad))\n",
    "print(\"Cot(góc) là:\",1/math.tan(goc_rad))\n",
    "\n",
    "#5) Tính log cơ số 10, ln và log cơ số tùy chọn e của toán hạng d\n",
    "d = float(input(\"Nhập toán hạng d:\"))\n",
    "e = float(input(\"Nhập cơ số e:\"))\n",
    "print(\"Log cơ số e của d là:\",math.log(d,e))\n",
    "print(\"Log cơ số 10 của d là:\",math.log10(d))\n",
    "print(\"Ln của d là:\",math.log(d))\n"
   ]
  }
 ],
 "metadata": {
  "kernelspec": {
   "display_name": "Python 3",
   "language": "python",
   "name": "python3"
  },
  "language_info": {
   "codemirror_mode": {
    "name": "ipython",
    "version": 3
   },
   "file_extension": ".py",
   "mimetype": "text/x-python",
   "name": "python",
   "nbconvert_exporter": "python",
   "pygments_lexer": "ipython3",
   "version": "3.13.7"
  }
 },
 "nbformat": 4,
 "nbformat_minor": 5
}
